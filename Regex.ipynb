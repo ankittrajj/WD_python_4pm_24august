{
 "cells": [
  {
   "cell_type": "code",
   "execution_count": 1,
   "id": "3c98a6e9",
   "metadata": {},
   "outputs": [],
   "source": [
    "import re"
   ]
  },
  {
   "cell_type": "code",
   "execution_count": 10,
   "id": "68efb053",
   "metadata": {},
   "outputs": [
    {
     "data": {
      "text/plain": [
       "<re.Match object; span=(8, 9), match='i'>"
      ]
     },
     "execution_count": 10,
     "metadata": {},
     "output_type": "execute_result"
    }
   ],
   "source": [
    "# search\n",
    "# findall\n",
    "# sub\n",
    "# split\n",
    "# finditer\n",
    "\n",
    "x = \"I am a lion and i know it.\"\n",
    "re.search('i',x)"
   ]
  },
  {
   "cell_type": "code",
   "execution_count": 11,
   "id": "2427c39b",
   "metadata": {},
   "outputs": [
    {
     "data": {
      "text/plain": [
       "['i', 'i', 'i']"
      ]
     },
     "execution_count": 11,
     "metadata": {},
     "output_type": "execute_result"
    }
   ],
   "source": [
    "re.findall('i',x)"
   ]
  },
  {
   "cell_type": "code",
   "execution_count": 13,
   "id": "95ea3106",
   "metadata": {},
   "outputs": [
    {
     "data": {
      "text/plain": [
       "'I am a lAon and A know At.'"
      ]
     },
     "execution_count": 13,
     "metadata": {},
     "output_type": "execute_result"
    }
   ],
   "source": [
    "re.sub('i','A',x)"
   ]
  },
  {
   "cell_type": "code",
   "execution_count": 15,
   "id": "b2a60f8e",
   "metadata": {},
   "outputs": [
    {
     "data": {
      "text/plain": [
       "['I ', 'm ', ' lion ', 'nd i know it.']"
      ]
     },
     "execution_count": 15,
     "metadata": {},
     "output_type": "execute_result"
    }
   ],
   "source": [
    "re.split('a',x)"
   ]
  },
  {
   "cell_type": "code",
   "execution_count": null,
   "id": "0a14a9e0",
   "metadata": {},
   "outputs": [],
   "source": []
  }
 ],
 "metadata": {
  "kernelspec": {
   "display_name": "Python 3 (ipykernel)",
   "language": "python",
   "name": "python3"
  },
  "language_info": {
   "codemirror_mode": {
    "name": "ipython",
    "version": 3
   },
   "file_extension": ".py",
   "mimetype": "text/x-python",
   "name": "python",
   "nbconvert_exporter": "python",
   "pygments_lexer": "ipython3",
   "version": "3.9.7"
  }
 },
 "nbformat": 4,
 "nbformat_minor": 5
}
