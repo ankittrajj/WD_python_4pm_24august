{
 "cells": [
  {
   "cell_type": "code",
   "execution_count": 4,
   "id": "3b673505",
   "metadata": {},
   "outputs": [
    {
     "name": "stdout",
     "output_type": "stream",
     "text": [
      "6\n"
     ]
    }
   ],
   "source": [
    "num = 784539\n",
    "count = 0\n",
    "\n",
    "while num != 0:\n",
    "    num = num//10\n",
    "    count = count +1\n",
    "print(count)\n",
    "    \n",
    "\n",
    "\n"
   ]
  },
  {
   "cell_type": "markdown",
   "id": "fbdd307f",
   "metadata": {},
   "source": [
    "# While loop"
   ]
  },
  {
   "cell_type": "code",
   "execution_count": 8,
   "id": "88a6639c",
   "metadata": {},
   "outputs": [
    {
     "name": "stdout",
     "output_type": "stream",
     "text": [
      "1\n",
      "2\n",
      "3\n",
      "4\n",
      "5\n",
      "6\n",
      "7\n",
      "8\n",
      "9\n",
      "10\n",
      "11\n",
      "12\n",
      "13\n",
      "14\n",
      "15\n",
      "16\n",
      "17\n",
      "18\n",
      "19\n"
     ]
    }
   ],
   "source": [
    "# 1. Intilize\n",
    "# 2. condition\n",
    "# 3. increment/decrement\n",
    "\n",
    "# \\\n",
    "#wap to print 1-10.\n",
    "\n",
    "\n",
    "x = 1\n",
    "while x<20:\n",
    "    print(x)\n",
    "    x=x+1\n",
    "#     x+=1\n",
    "#     x++\n"
   ]
  },
  {
   "cell_type": "code",
   "execution_count": 9,
   "id": "68a56e74",
   "metadata": {},
   "outputs": [
    {
     "name": "stdout",
     "output_type": "stream",
     "text": [
      "5\n",
      "10\n",
      "15\n",
      "20\n",
      "25\n",
      "30\n",
      "35\n",
      "40\n",
      "45\n",
      "50\n"
     ]
    }
   ],
   "source": [
    "# #wap to print table of 5 using while loop.\n",
    "\n",
    "x = 5\n",
    "while x<=50:\n",
    "    print(x)\n",
    "    x=x+5\n",
    "    \n",
    "    \n"
   ]
  },
  {
   "cell_type": "code",
   "execution_count": null,
   "id": "4adb68de",
   "metadata": {},
   "outputs": [],
   "source": []
  }
 ],
 "metadata": {
  "kernelspec": {
   "display_name": "Python 3 (ipykernel)",
   "language": "python",
   "name": "python3"
  },
  "language_info": {
   "codemirror_mode": {
    "name": "ipython",
    "version": 3
   },
   "file_extension": ".py",
   "mimetype": "text/x-python",
   "name": "python",
   "nbconvert_exporter": "python",
   "pygments_lexer": "ipython3",
   "version": "3.9.7"
  }
 },
 "nbformat": 4,
 "nbformat_minor": 5
}
