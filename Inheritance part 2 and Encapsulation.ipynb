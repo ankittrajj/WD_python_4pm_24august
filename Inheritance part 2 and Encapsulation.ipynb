{
 "cells": [
  {
   "cell_type": "code",
   "execution_count": 1,
   "id": "654cc911",
   "metadata": {},
   "outputs": [],
   "source": [
    "# gpc to pc\n",
    "class gpc:\n",
    "    def __init__(self,name,age):\n",
    "        self.name = name\n",
    "        self.age = age\n",
    "        \n",
    "class pc(gpc):\n",
    "    def __init__(self,name,age,emp_id):\n",
    "        super().__init__(name,age)\n",
    "        self.emp_id = emp_id\n",
    "        \n",
    "class cc:\n",
    "    def __init__(self,sal):\n",
    "        self.sal = sal\n",
    "\n",
    "p = pc('wert',67,12345)"
   ]
  },
  {
   "cell_type": "code",
   "execution_count": 2,
   "id": "e990f6c8",
   "metadata": {},
   "outputs": [
    {
     "data": {
      "text/plain": [
       "'wert'"
      ]
     },
     "execution_count": 2,
     "metadata": {},
     "output_type": "execute_result"
    }
   ],
   "source": [
    "p.name"
   ]
  },
  {
   "cell_type": "code",
   "execution_count": 3,
   "id": "f47f1ebc",
   "metadata": {},
   "outputs": [
    {
     "data": {
      "text/plain": [
       "67"
      ]
     },
     "execution_count": 3,
     "metadata": {},
     "output_type": "execute_result"
    }
   ],
   "source": [
    "p.age"
   ]
  },
  {
   "cell_type": "code",
   "execution_count": 4,
   "id": "ecfa9766",
   "metadata": {},
   "outputs": [
    {
     "data": {
      "text/plain": [
       "12345"
      ]
     },
     "execution_count": 4,
     "metadata": {},
     "output_type": "execute_result"
    }
   ],
   "source": [
    "p.emp_id"
   ]
  },
  {
   "cell_type": "code",
   "execution_count": 5,
   "id": "bb050667",
   "metadata": {},
   "outputs": [],
   "source": [
    "# pc to cc\n",
    "class gpc:\n",
    "    def __init__(self,name,age):\n",
    "        self.name = name\n",
    "        self.age = age\n",
    "        \n",
    "class pc:\n",
    "    def __init__(self,emp_id):\n",
    "        self.emp_id = emp_id\n",
    "        \n",
    "class cc(pc):\n",
    "    def __init__(self,emp_id,sal):\n",
    "        super().__init__(emp_id)\n",
    "        self.sal = sal\n",
    "\n",
    "p = cc('wert',67)"
   ]
  },
  {
   "cell_type": "code",
   "execution_count": 6,
   "id": "1f944afc",
   "metadata": {},
   "outputs": [
    {
     "data": {
      "text/plain": [
       "67"
      ]
     },
     "execution_count": 6,
     "metadata": {},
     "output_type": "execute_result"
    }
   ],
   "source": [
    "p.sal"
   ]
  },
  {
   "cell_type": "code",
   "execution_count": 7,
   "id": "54346a19",
   "metadata": {},
   "outputs": [
    {
     "data": {
      "text/plain": [
       "'wert'"
      ]
     },
     "execution_count": 7,
     "metadata": {},
     "output_type": "execute_result"
    }
   ],
   "source": [
    "p.emp_id"
   ]
  },
  {
   "cell_type": "code",
   "execution_count": 8,
   "id": "ff652f8b",
   "metadata": {},
   "outputs": [],
   "source": [
    "# gpc to cc\n",
    "\n",
    "class gpc:\n",
    "    def __init__(self,name,age):\n",
    "        self.name = name\n",
    "        self.age = age\n",
    "        \n",
    "class pc:\n",
    "    def __init__(self,emp_id):\n",
    "        self.emp_id = emp_id\n",
    "        \n",
    "class cc(gpc):\n",
    "    def __init__(self,name,age,sal):\n",
    "        super().__init__(name,age)\n",
    "        self.sal = sal\n",
    "        \n",
    "c = cc('a',45,98)\n",
    "\n"
   ]
  },
  {
   "cell_type": "code",
   "execution_count": 9,
   "id": "0910a9da",
   "metadata": {},
   "outputs": [
    {
     "data": {
      "text/plain": [
       "'a'"
      ]
     },
     "execution_count": 9,
     "metadata": {},
     "output_type": "execute_result"
    }
   ],
   "source": [
    "c.name"
   ]
  },
  {
   "cell_type": "code",
   "execution_count": 10,
   "id": "fb09d95a",
   "metadata": {},
   "outputs": [
    {
     "data": {
      "text/plain": [
       "98"
      ]
     },
     "execution_count": 10,
     "metadata": {},
     "output_type": "execute_result"
    }
   ],
   "source": [
    "c.sal"
   ]
  },
  {
   "cell_type": "code",
   "execution_count": 11,
   "id": "bbd6597a",
   "metadata": {},
   "outputs": [
    {
     "data": {
      "text/plain": [
       "45"
      ]
     },
     "execution_count": 11,
     "metadata": {},
     "output_type": "execute_result"
    }
   ],
   "source": [
    "c.age"
   ]
  },
  {
   "cell_type": "code",
   "execution_count": 12,
   "id": "4f3068cc",
   "metadata": {},
   "outputs": [],
   "source": [
    "class gpc:\n",
    "    def __init__(self,name,age):\n",
    "        self.name = name\n",
    "        self.age = age\n",
    "        \n",
    "class pc(gpc):\n",
    "    def __init__(self,name,age,emp_id):\n",
    "        super().__init__(name,age)\n",
    "        self.emp_id = emp_id\n",
    "        \n",
    "class cc(pc):\n",
    "    def __init__(self,name,age,emp_id,sal):\n",
    "        super().__init__(name,age,emp_id)\n",
    "        self.sal = sal\n",
    "        \n",
    "c = cc(\"ASD\",12,23459,8)\n"
   ]
  },
  {
   "cell_type": "code",
   "execution_count": 13,
   "id": "51ffb146",
   "metadata": {},
   "outputs": [
    {
     "data": {
      "text/plain": [
       "'ASD'"
      ]
     },
     "execution_count": 13,
     "metadata": {},
     "output_type": "execute_result"
    }
   ],
   "source": [
    "c.name"
   ]
  },
  {
   "cell_type": "code",
   "execution_count": 14,
   "id": "e0e75acb",
   "metadata": {},
   "outputs": [
    {
     "data": {
      "text/plain": [
       "12"
      ]
     },
     "execution_count": 14,
     "metadata": {},
     "output_type": "execute_result"
    }
   ],
   "source": [
    "c.age"
   ]
  },
  {
   "cell_type": "code",
   "execution_count": 15,
   "id": "1023ffe6",
   "metadata": {},
   "outputs": [
    {
     "data": {
      "text/plain": [
       "8"
      ]
     },
     "execution_count": 15,
     "metadata": {},
     "output_type": "execute_result"
    }
   ],
   "source": [
    "c.sal"
   ]
  },
  {
   "cell_type": "code",
   "execution_count": 16,
   "id": "da9b4cc2",
   "metadata": {},
   "outputs": [
    {
     "data": {
      "text/plain": [
       "23459"
      ]
     },
     "execution_count": 16,
     "metadata": {},
     "output_type": "execute_result"
    }
   ],
   "source": [
    "c.emp_id"
   ]
  },
  {
   "cell_type": "markdown",
   "id": "4700b2fb",
   "metadata": {},
   "source": [
    "# Encapsulation"
   ]
  },
  {
   "cell_type": "code",
   "execution_count": 18,
   "id": "66385089",
   "metadata": {},
   "outputs": [],
   "source": [
    "class phone:\n",
    "    def __init__(self,__price,memory):\n",
    "        self.__price = __price\n",
    "        self.memory = memory\n",
    "        \n",
    "p = phone(34,'8gb')"
   ]
  },
  {
   "cell_type": "code",
   "execution_count": 21,
   "id": "522b1334",
   "metadata": {},
   "outputs": [
    {
     "ename": "AttributeError",
     "evalue": "'phone' object has no attribute '__price'",
     "output_type": "error",
     "traceback": [
      "\u001b[1;31m---------------------------------------------------------------------------\u001b[0m",
      "\u001b[1;31mAttributeError\u001b[0m                            Traceback (most recent call last)",
      "\u001b[1;32m~\\AppData\\Local\\Temp/ipykernel_1264/1957324961.py\u001b[0m in \u001b[0;36m<module>\u001b[1;34m\u001b[0m\n\u001b[1;32m----> 1\u001b[1;33m \u001b[0mp\u001b[0m\u001b[1;33m.\u001b[0m\u001b[0m__price\u001b[0m\u001b[1;33m\u001b[0m\u001b[1;33m\u001b[0m\u001b[0m\n\u001b[0m",
      "\u001b[1;31mAttributeError\u001b[0m: 'phone' object has no attribute '__price'"
     ]
    }
   ],
   "source": [
    "p.__price"
   ]
  },
  {
   "cell_type": "code",
   "execution_count": 20,
   "id": "7afc647b",
   "metadata": {},
   "outputs": [
    {
     "data": {
      "text/plain": [
       "'8gb'"
      ]
     },
     "execution_count": 20,
     "metadata": {},
     "output_type": "execute_result"
    }
   ],
   "source": [
    "p.memory"
   ]
  },
  {
   "cell_type": "code",
   "execution_count": 24,
   "id": "86d72e71",
   "metadata": {},
   "outputs": [
    {
     "ename": "AttributeError",
     "evalue": "'phone' object has no attribute '__fun'",
     "output_type": "error",
     "traceback": [
      "\u001b[1;31m---------------------------------------------------------------------------\u001b[0m",
      "\u001b[1;31mAttributeError\u001b[0m                            Traceback (most recent call last)",
      "\u001b[1;32m~\\AppData\\Local\\Temp/ipykernel_1264/113063150.py\u001b[0m in \u001b[0;36m<module>\u001b[1;34m\u001b[0m\n\u001b[0;32m      4\u001b[0m \u001b[1;33m\u001b[0m\u001b[0m\n\u001b[0;32m      5\u001b[0m \u001b[0mp\u001b[0m \u001b[1;33m=\u001b[0m \u001b[0mphone\u001b[0m\u001b[1;33m(\u001b[0m\u001b[1;33m)\u001b[0m\u001b[1;33m\u001b[0m\u001b[1;33m\u001b[0m\u001b[0m\n\u001b[1;32m----> 6\u001b[1;33m \u001b[0mp\u001b[0m\u001b[1;33m.\u001b[0m\u001b[0m__fun\u001b[0m\u001b[1;33m(\u001b[0m\u001b[1;36m23\u001b[0m\u001b[1;33m,\u001b[0m\u001b[1;34m'xyz'\u001b[0m\u001b[1;33m)\u001b[0m\u001b[1;33m\u001b[0m\u001b[1;33m\u001b[0m\u001b[0m\n\u001b[0m",
      "\u001b[1;31mAttributeError\u001b[0m: 'phone' object has no attribute '__fun'"
     ]
    }
   ],
   "source": [
    "class phone:\n",
    "    def __fun(self,price,model):\n",
    "        return price,model\n",
    "    \n",
    "p = phone()\n",
    "p.__fun(23,'xyz')"
   ]
  },
  {
   "cell_type": "code",
   "execution_count": 26,
   "id": "ffbfb702",
   "metadata": {},
   "outputs": [],
   "source": [
    "class phone:\n",
    "    def __init__(self,_price,memory):\n",
    "        self._price = _price\n",
    "        self.memory = memory\n",
    "        \n",
    "p = phone(34,'8gb')"
   ]
  },
  {
   "cell_type": "code",
   "execution_count": 28,
   "id": "b9995672",
   "metadata": {},
   "outputs": [
    {
     "data": {
      "text/plain": [
       "34"
      ]
     },
     "execution_count": 28,
     "metadata": {},
     "output_type": "execute_result"
    }
   ],
   "source": [
    "p._price"
   ]
  },
  {
   "cell_type": "code",
   "execution_count": 31,
   "id": "37e95a83",
   "metadata": {},
   "outputs": [
    {
     "data": {
      "text/plain": [
       "(23, 'xyz')"
      ]
     },
     "execution_count": 31,
     "metadata": {},
     "output_type": "execute_result"
    }
   ],
   "source": [
    "class phone:\n",
    "    def _fun(self,price,model):\n",
    "        return price,model\n",
    "    \n",
    "p = phone()\n",
    "p._fun(23,'xyz')"
   ]
  },
  {
   "cell_type": "code",
   "execution_count": null,
   "id": "d748b23e",
   "metadata": {},
   "outputs": [],
   "source": []
  }
 ],
 "metadata": {
  "kernelspec": {
   "display_name": "Python 3 (ipykernel)",
   "language": "python",
   "name": "python3"
  },
  "language_info": {
   "codemirror_mode": {
    "name": "ipython",
    "version": 3
   },
   "file_extension": ".py",
   "mimetype": "text/x-python",
   "name": "python",
   "nbconvert_exporter": "python",
   "pygments_lexer": "ipython3",
   "version": "3.9.7"
  }
 },
 "nbformat": 4,
 "nbformat_minor": 5
}
