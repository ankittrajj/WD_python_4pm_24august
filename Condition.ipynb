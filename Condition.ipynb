{
 "cells": [
  {
   "cell_type": "code",
   "execution_count": 8,
   "id": "1e7f015b",
   "metadata": {},
   "outputs": [
    {
     "name": "stdout",
     "output_type": "stream",
     "text": [
      "Adult\n"
     ]
    }
   ],
   "source": [
    "# syntax\n",
    "# if condition :\n",
    "#     print(msg)\n",
    "\n",
    "# 18+\n",
    "# 18-\n",
    "\n",
    "age = 18\n",
    "\n",
    "if age>=18:\n",
    "    print(\"Adult\")\n",
    "else:\n",
    "    print(\"Child\")"
   ]
  },
  {
   "cell_type": "code",
   "execution_count": 17,
   "id": "de057542",
   "metadata": {},
   "outputs": [
    {
     "name": "stdout",
     "output_type": "stream",
     "text": [
      "Adult\n"
     ]
    }
   ],
   "source": [
    "age = 18\n",
    "\n",
    "if age>=18:\n",
    "    print(\"Adult\")\n",
    "elif age == 18:\n",
    "    print(\"Teenager\")\n",
    "else:\n",
    "    print(\"Child\")"
   ]
  },
  {
   "cell_type": "code",
   "execution_count": 15,
   "id": "5fbe482e",
   "metadata": {},
   "outputs": [
    {
     "name": "stdout",
     "output_type": "stream",
     "text": [
      "True\n"
     ]
    }
   ],
   "source": [
    "a = 8\n",
    "b = 80\n",
    "c = a!=b\n",
    "print(c)"
   ]
  },
  {
   "cell_type": "code",
   "execution_count": 18,
   "id": "892ef826",
   "metadata": {},
   "outputs": [],
   "source": [
    "# #wap to print odd and even number?\n",
    "\n",
    "# Wap to determine either number is positive , negative or 0.\n",
    "\n",
    "# #Determine the salary of a emp . If he take holiday more than 5 the \n",
    "# salary will be deducted by 3% or if there is no holiday then there is \n",
    "# a bonus of 5% given to employee.Find the total salary?\n",
    "\n",
    "\n",
    "\n"
   ]
  },
  {
   "cell_type": "code",
   "execution_count": 28,
   "id": "44744720",
   "metadata": {},
   "outputs": [
    {
     "name": "stdout",
     "output_type": "stream",
     "text": [
      "Enter the number45\n",
      "Odd number\n"
     ]
    }
   ],
   "source": [
    "num = int(input(\"Enter the number\"))\n",
    "\n",
    "if num%2==0:\n",
    "    print(\"Even Number\")\n",
    "\n",
    "else:\n",
    "    print(\"Odd number\")"
   ]
  },
  {
   "cell_type": "code",
   "execution_count": 26,
   "id": "9fe283e4",
   "metadata": {},
   "outputs": [
    {
     "name": "stdout",
     "output_type": "stream",
     "text": [
      "Odd Number\n"
     ]
    }
   ],
   "source": [
    "num = 25\n",
    "\n",
    "if num%2!=0:\n",
    "    print(\"Odd Number\")\n",
    "\n",
    "\n",
    "else:\n",
    "    print(\"Even number\")"
   ]
  },
  {
   "cell_type": "code",
   "execution_count": 32,
   "id": "fc93badd",
   "metadata": {},
   "outputs": [
    {
     "name": "stdout",
     "output_type": "stream",
     "text": [
      "This is zero!!\n"
     ]
    }
   ],
   "source": [
    "num = 0\n",
    "\n",
    "if num>0:\n",
    "    print(\"Positive number\")\n",
    "elif num == 0 :\n",
    "    print(\"This is zero!!\")\n",
    "else:\n",
    "    print(\"Negative number\")"
   ]
  },
  {
   "cell_type": "code",
   "execution_count": 36,
   "id": "4714cdc3",
   "metadata": {},
   "outputs": [
    {
     "name": "stdout",
     "output_type": "stream",
     "text": [
      "21000.0\n"
     ]
    }
   ],
   "source": [
    "# #Determine the salary of a emp . If he take holiday more than 5 the \n",
    "# salary will be deducted by 3% or if there is no holiday then there is \n",
    "# a bonus of 5% given to employee.Find the total salary?\n",
    "\n",
    "\n",
    "salary = 20000\n",
    "leave = 3\n",
    "\n",
    "if leave>5:\n",
    "    ded = (salary*3)/100\n",
    "    act_sal_ded = salary - ded\n",
    "    print(act_sal_ded)\n",
    "    \n",
    "\n",
    "else:\n",
    "    bonus = (salary * 5)/100\n",
    "    act_sal_bonus = salary + bonus\n",
    "    print(act_sal_bonus)"
   ]
  },
  {
   "cell_type": "code",
   "execution_count": null,
   "id": "371db638",
   "metadata": {},
   "outputs": [],
   "source": []
  }
 ],
 "metadata": {
  "kernelspec": {
   "display_name": "Python 3 (ipykernel)",
   "language": "python",
   "name": "python3"
  },
  "language_info": {
   "codemirror_mode": {
    "name": "ipython",
    "version": 3
   },
   "file_extension": ".py",
   "mimetype": "text/x-python",
   "name": "python",
   "nbconvert_exporter": "python",
   "pygments_lexer": "ipython3",
   "version": "3.9.7"
  }
 },
 "nbformat": 4,
 "nbformat_minor": 5
}
