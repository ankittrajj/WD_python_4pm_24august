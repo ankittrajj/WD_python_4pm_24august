{
 "cells": [
  {
   "cell_type": "code",
   "execution_count": 8,
   "id": "d34c9c36",
   "metadata": {},
   "outputs": [
    {
     "name": "stdout",
     "output_type": "stream",
     "text": [
      "not prime\n"
     ]
    }
   ],
   "source": [
    "# prime num\n",
    "num = 51\n",
    "if num>1:\n",
    "    for i in range(2,num):\n",
    "        if num%i == 0:\n",
    "            print(\"not prime\")\n",
    "            break\n",
    "            \n",
    "    else:\n",
    "        print(\"prime number\")\n",
    "        "
   ]
  },
  {
   "cell_type": "code",
   "execution_count": 16,
   "id": "932e9fb9",
   "metadata": {},
   "outputs": [
    {
     "name": "stdout",
     "output_type": "stream",
     "text": [
      "Enter the terms!8\n",
      "0\n",
      "1\n",
      "1\n",
      "2\n",
      "3\n",
      "5\n",
      "8\n",
      "13\n"
     ]
    }
   ],
   "source": [
    "# fibonacci series.\n",
    "nterms = int(input(\"Enter the terms!\"))\n",
    "n1,n2 = 0,1\n",
    "count = 0\n",
    "\n",
    "if nterms<=0:\n",
    "    print(\"Invalid terms\")\n",
    "elif nterms == 1:\n",
    "    print(n1)\n",
    "else:\n",
    "    while count < nterms:\n",
    "        print(n1)\n",
    "        nth = n1+n2\n",
    "        n1 = n2\n",
    "        n2 = nth\n",
    "        count+=1"
   ]
  },
  {
   "cell_type": "code",
   "execution_count": 21,
   "id": "21135498",
   "metadata": {},
   "outputs": [],
   "source": [
    "class std:\n",
    "    greet = 'hello'\n",
    "    \n",
    "s = std()"
   ]
  },
  {
   "cell_type": "code",
   "execution_count": 22,
   "id": "8dd819f9",
   "metadata": {},
   "outputs": [
    {
     "data": {
      "text/plain": [
       "'hello'"
      ]
     },
     "execution_count": 22,
     "metadata": {},
     "output_type": "execute_result"
    }
   ],
   "source": [
    "s.greet"
   ]
  },
  {
   "cell_type": "code",
   "execution_count": 23,
   "id": "81d1b1ec",
   "metadata": {},
   "outputs": [
    {
     "data": {
      "text/plain": [
       "'John'"
      ]
     },
     "execution_count": 23,
     "metadata": {},
     "output_type": "execute_result"
    }
   ],
   "source": [
    "#wap with the help of oops try to print \n",
    "# your first & last name.\n",
    "\n",
    "class name:\n",
    "    f_name = 'John'\n",
    "    l_name = 'Cena'\n",
    "    \n",
    "    \n",
    "n = name()\n",
    "n.f_name\n"
   ]
  },
  {
   "cell_type": "code",
   "execution_count": 24,
   "id": "01ceb316",
   "metadata": {},
   "outputs": [
    {
     "data": {
      "text/plain": [
       "'Cena'"
      ]
     },
     "execution_count": 24,
     "metadata": {},
     "output_type": "execute_result"
    }
   ],
   "source": [
    "n.l_name"
   ]
  },
  {
   "cell_type": "code",
   "execution_count": 25,
   "id": "c38e8404",
   "metadata": {},
   "outputs": [
    {
     "name": "stdout",
     "output_type": "stream",
     "text": [
      "John Cena\n"
     ]
    }
   ],
   "source": [
    "print(n.f_name,n.l_name)"
   ]
  },
  {
   "cell_type": "code",
   "execution_count": 29,
   "id": "a6253d60",
   "metadata": {},
   "outputs": [
    {
     "data": {
      "text/plain": [
       "24"
      ]
     },
     "execution_count": 29,
     "metadata": {},
     "output_type": "execute_result"
    }
   ],
   "source": [
    "#wap to add two numbers using function inside the oops.\n",
    "class add:\n",
    "    def fun(self,x,y):\n",
    "        z = x+y\n",
    "        return z\n",
    "    \n",
    "a = add()\n",
    "a.fun(1,23)"
   ]
  },
  {
   "cell_type": "code",
   "execution_count": null,
   "id": "f6878f9a",
   "metadata": {},
   "outputs": [],
   "source": []
  }
 ],
 "metadata": {
  "kernelspec": {
   "display_name": "Python 3 (ipykernel)",
   "language": "python",
   "name": "python3"
  },
  "language_info": {
   "codemirror_mode": {
    "name": "ipython",
    "version": 3
   },
   "file_extension": ".py",
   "mimetype": "text/x-python",
   "name": "python",
   "nbconvert_exporter": "python",
   "pygments_lexer": "ipython3",
   "version": "3.9.7"
  }
 },
 "nbformat": 4,
 "nbformat_minor": 5
}
