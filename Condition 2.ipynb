{
 "cells": [
  {
   "cell_type": "code",
   "execution_count": 7,
   "id": "07e9dc80",
   "metadata": {},
   "outputs": [
    {
     "name": "stdout",
     "output_type": "stream",
     "text": [
      "Enter the age18\n",
      "First time Voter!!\n"
     ]
    }
   ],
   "source": [
    "age = int(input(\"Enter the age\"))\n",
    "if age>18:\n",
    "    print(\"Vote\")\n",
    "elif age == 18:\n",
    "    print(\"First time Voter!!\")\n",
    "else:\n",
    "    print(\"No vote\")"
   ]
  },
  {
   "cell_type": "code",
   "execution_count": 9,
   "id": "e91789ff",
   "metadata": {},
   "outputs": [
    {
     "name": "stdout",
     "output_type": "stream",
     "text": [
      "1000.0\n",
      "21000.0\n"
     ]
    }
   ],
   "source": [
    "# 1.\n",
    "# A company decided to give bonus of 5% to employee \n",
    "# if his/her year of service is more than 5 years.\n",
    "# Ask user for their salary and year of service\n",
    "# and print the net bonus amount.\n",
    "\n",
    "\n",
    "year = 7\n",
    "sal = 20000\n",
    "if year > 5:\n",
    "    bonus = (sal*5)/100\n",
    "    print(bonus)\n",
    "    t_sal = sal+bonus\n",
    "    print(t_sal)\n",
    "else:\n",
    "    print(\"No bonus\")\n"
   ]
  },
  {
   "cell_type": "code",
   "execution_count": 12,
   "id": "6851be4e",
   "metadata": {},
   "outputs": [
    {
     "name": "stdout",
     "output_type": "stream",
     "text": [
      "Rectangle\n"
     ]
    }
   ],
   "source": [
    "# Take values of length and breadth of a rectangle\n",
    "# from user and check if it is square or not.\n",
    "\n",
    "l = 8\n",
    "b = 6\n",
    "a = 4\n",
    "area_of_square = a**2\n",
    "area = l*b\n",
    "\n",
    "if area_of_square == area:\n",
    "    print(\"Square\")\n",
    "else:\n",
    "    print(\"Rectangle\")\n"
   ]
  },
  {
   "cell_type": "code",
   "execution_count": 11,
   "id": "40cc2b93",
   "metadata": {},
   "outputs": [
    {
     "data": {
      "text/plain": [
       "16"
      ]
     },
     "execution_count": 11,
     "metadata": {},
     "output_type": "execute_result"
    }
   ],
   "source": [
    "a=4\n",
    "a**2"
   ]
  },
  {
   "cell_type": "code",
   "execution_count": 14,
   "id": "f55a793f",
   "metadata": {},
   "outputs": [
    {
     "name": "stdout",
     "output_type": "stream",
     "text": [
      "SQuare\n"
     ]
    }
   ],
   "source": [
    "l = 8\n",
    "b = 8\n",
    "\n",
    "if l==b:\n",
    "    print(\"SQuare\")\n",
    "else:\n",
    "    print(\"Rec\")"
   ]
  },
  {
   "cell_type": "code",
   "execution_count": 18,
   "id": "7bd20d60",
   "metadata": {},
   "outputs": [
    {
     "name": "stdout",
     "output_type": "stream",
     "text": [
      "40\n"
     ]
    }
   ],
   "source": [
    "# .\n",
    "# Take two int values from user and print \n",
    "# greatest among them.\n",
    "\n",
    "# Take 3 int value and find smallest number.\n",
    "\n",
    "\n",
    "a = 20 \n",
    "b = 40\n",
    "c = 10\n",
    "\n",
    "if a>b and a>c:\n",
    "    print(a)\n",
    "elif b>a and b>c:\n",
    "    print(b)\n",
    "elif c>a and c>b:\n",
    "    print(c)\n",
    "    "
   ]
  },
  {
   "cell_type": "code",
   "execution_count": 25,
   "id": "9444b116",
   "metadata": {},
   "outputs": [
    {
     "name": "stdout",
     "output_type": "stream",
     "text": [
      "A\n"
     ]
    }
   ],
   "source": [
    "# 5.\n",
    "# A school has following rules for grading system:\n",
    "# a. Below 25 - F\n",
    "# b. 25 to 45 - E\n",
    "# c. 45 to 50 - D\n",
    "# d. 50 to 60 - C\n",
    "# e. 60 to 80 - B\n",
    "# f. Above 80 - A\n",
    "# Ask user to enter marks and print the corresponding grade.\n",
    "\n",
    "\n",
    "marks = 101\n",
    "\n",
    "if marks>80:\n",
    "    print(\"A\")\n",
    "elif marks>60 and marks<=80:\n",
    "    print(\"B\")\n",
    "elif marks>50 and marks<=60:\n",
    "    print(\"C\")\n",
    "elif marks>45 and marks<=50:\n",
    "    print(\"D\")\n",
    "elif marks>=25 and marks<=45:\n",
    "    print(\"E\")\n",
    "elif marks<25:\n",
    "    print(\"F\")\n",
    "\n",
    "    \n",
    "    "
   ]
  },
  {
   "cell_type": "code",
   "execution_count": 29,
   "id": "b784e43d",
   "metadata": {},
   "outputs": [
    {
     "name": "stdout",
     "output_type": "stream",
     "text": [
      "not allowed\n"
     ]
    }
   ],
   "source": [
    "# A student will not be allowed to sit in exam \n",
    "# if his/her attendence is less than 75%.\n",
    "# Take following input from user\n",
    "# Number of classes held\n",
    "# Number of classes attended.\n",
    "# And print\n",
    "# percentage of class attended\n",
    "# Is student is allowed to sit in exam or not.\n",
    "\n",
    "\n",
    "class_held = 100\n",
    "class_attend = 32\n",
    "per = (class_attend * 100)/class_held\n",
    "per\n",
    "\n",
    "if per>75:\n",
    "    print(\"Allowed\")\n",
    "else:\n",
    "    print(\"not allowed\")\n"
   ]
  },
  {
   "cell_type": "code",
   "execution_count": 3,
   "id": "1fba7b12",
   "metadata": {},
   "outputs": [
    {
     "name": "stdout",
     "output_type": "stream",
     "text": [
      "Oldest is A\n",
      "Youngest is C\n"
     ]
    }
   ],
   "source": [
    "# youngest & oldest\n",
    "\n",
    "a = 90\n",
    "b = 78\n",
    "c = 45\n",
    "# y-----> c\n",
    "# o-----> a\n",
    "\n",
    "# oldest\n",
    "if a>b and a>c:\n",
    "    print(\"Oldest is A\")\n",
    "elif b>a and b>c:\n",
    "    print(\"oldest is B\")\n",
    "elif c>a and c>b:\n",
    "    print(\"Oldest is C\")\n",
    "    \n",
    "if a<b and a<c:\n",
    "    print(\"Youngest is A\")\n",
    "elif b<a and b<c:\n",
    "    print(\"Youngest is B\")\n",
    "elif c<a and c<b:\n",
    "    print(\"Youngest is C\")\n",
    "    \n",
    "    "
   ]
  },
  {
   "cell_type": "code",
   "execution_count": 9,
   "id": "7d1200e3",
   "metadata": {},
   "outputs": [
    {
     "name": "stdout",
     "output_type": "stream",
     "text": [
      "Allowed\n"
     ]
    }
   ],
   "source": [
    "class_held = 100\n",
    "class_attend = 80\n",
    "per = (class_attend * 100)/class_held\n",
    "per\n",
    "\n",
    "if per>75:\n",
    "    print(\"Allowed\")\n",
    "else:\n",
    "    medical_cond = input(\"Type Y for med_con and N for not_med_con\") \n",
    "    if medical_cond == 'Y':\n",
    "        print(\"allowed\")\n",
    "    else:\n",
    "        print(\"Not allowed\")\n",
    "#     print(\"not allowed\")\n"
   ]
  },
  {
   "cell_type": "code",
   "execution_count": null,
   "id": "8c67fc69",
   "metadata": {},
   "outputs": [],
   "source": []
  }
 ],
 "metadata": {
  "kernelspec": {
   "display_name": "Python 3 (ipykernel)",
   "language": "python",
   "name": "python3"
  },
  "language_info": {
   "codemirror_mode": {
    "name": "ipython",
    "version": 3
   },
   "file_extension": ".py",
   "mimetype": "text/x-python",
   "name": "python",
   "nbconvert_exporter": "python",
   "pygments_lexer": "ipython3",
   "version": "3.9.7"
  }
 },
 "nbformat": 4,
 "nbformat_minor": 5
}
