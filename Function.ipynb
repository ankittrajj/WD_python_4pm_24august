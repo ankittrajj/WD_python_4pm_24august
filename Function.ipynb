{
 "cells": [
  {
   "cell_type": "code",
   "execution_count": 4,
   "id": "88eba654",
   "metadata": {},
   "outputs": [
    {
     "name": "stdout",
     "output_type": "stream",
     "text": [
      "Hello bhai!!\n"
     ]
    }
   ],
   "source": [
    "greet()"
   ]
  },
  {
   "cell_type": "code",
   "execution_count": 1,
   "id": "c98e3dbd",
   "metadata": {},
   "outputs": [],
   "source": [
    "# there are two type of function\n",
    "# 1. inbuilt function ------> print(),input(),int(),list()\n",
    "# 2. user - defined function ------> \n",
    "\n",
    "\n",
    "# syntax ----->\n",
    "# define_the_function function_name():\n",
    "#     print(the msg)\n",
    "# x()\n",
    "\n",
    "\n",
    "def greet():\n",
    "    print(\"Hello bhai!!\")"
   ]
  },
  {
   "cell_type": "code",
   "execution_count": 2,
   "id": "26a6d481",
   "metadata": {},
   "outputs": [
    {
     "name": "stdout",
     "output_type": "stream",
     "text": [
      "Hello bhai!!\n"
     ]
    }
   ],
   "source": [
    "greet()"
   ]
  },
  {
   "cell_type": "code",
   "execution_count": 6,
   "id": "f863e5ec",
   "metadata": {},
   "outputs": [
    {
     "name": "stdout",
     "output_type": "stream",
     "text": [
      "28\n"
     ]
    }
   ],
   "source": [
    "def add():\n",
    "    a = 8\n",
    "    b = 20\n",
    "    c = a+b\n",
    "    print(c)\n",
    "add()"
   ]
  },
  {
   "cell_type": "code",
   "execution_count": 9,
   "id": "49486f73",
   "metadata": {},
   "outputs": [],
   "source": [
    "# 5 question -----> convert into function.\n",
    "\n",
    "#wap to find the largest between two numbers with the help of function.\n",
    "\n",
    "def fun():\n",
    "    x = 34\n",
    "    y =89\n",
    "    if x>y:\n",
    "        print(x)\n",
    "    else:\n",
    "        print(y)"
   ]
  },
  {
   "cell_type": "code",
   "execution_count": 10,
   "id": "0599a3ee",
   "metadata": {},
   "outputs": [
    {
     "name": "stdout",
     "output_type": "stream",
     "text": [
      "89\n"
     ]
    }
   ],
   "source": [
    "fun()"
   ]
  },
  {
   "cell_type": "code",
   "execution_count": 11,
   "id": "6acf54b7",
   "metadata": {},
   "outputs": [
    {
     "name": "stdout",
     "output_type": "stream",
     "text": [
      "7\n"
     ]
    }
   ],
   "source": [
    "def fun():\n",
    "    a = 9\n",
    "    b = 7\n",
    "    if a<b:\n",
    "        print(a)\n",
    "    else:\n",
    "        print(b)\n",
    "fun()"
   ]
  },
  {
   "cell_type": "code",
   "execution_count": null,
   "id": "4b014f75",
   "metadata": {},
   "outputs": [],
   "source": [
    "# 4 types of function \n",
    "\n",
    "# 1.no arg no return\n",
    "# 2.no arg with return\n",
    "# 3.with arg with return\n",
    "# 4.with arg no return.\n",
    "\n",
    "\n"
   ]
  },
  {
   "cell_type": "code",
   "execution_count": 13,
   "id": "2652d855",
   "metadata": {},
   "outputs": [
    {
     "name": "stdout",
     "output_type": "stream",
     "text": [
      "3\n"
     ]
    }
   ],
   "source": [
    "def add(x,y):\n",
    "    c = x+y\n",
    "    print(c)\n",
    "    \n",
    "add(1,2)"
   ]
  },
  {
   "cell_type": "code",
   "execution_count": null,
   "id": "dadc1124",
   "metadata": {},
   "outputs": [],
   "source": [
    "# return method ------> "
   ]
  },
  {
   "cell_type": "code",
   "execution_count": 17,
   "id": "b4bfbadc",
   "metadata": {},
   "outputs": [
    {
     "name": "stdout",
     "output_type": "stream",
     "text": [
      "3\n",
      "hello\n"
     ]
    }
   ],
   "source": [
    "def add(x,y):\n",
    "    c = x+y\n",
    "    print(c) \n",
    "    print('hello')\n",
    "    \n",
    "    \n",
    "add(1,2)"
   ]
  },
  {
   "cell_type": "code",
   "execution_count": 20,
   "id": "7fff91c5",
   "metadata": {},
   "outputs": [
    {
     "name": "stdout",
     "output_type": "stream",
     "text": [
      "hello\n"
     ]
    },
    {
     "data": {
      "text/plain": [
       "3"
      ]
     },
     "execution_count": 20,
     "metadata": {},
     "output_type": "execute_result"
    }
   ],
   "source": [
    "def add(x,y):\n",
    "    c = x+y\n",
    "    return (c)\n",
    "    print('hello')\n",
    "\n",
    "    \n",
    "add(1,2)"
   ]
  },
  {
   "cell_type": "code",
   "execution_count": 16,
   "id": "ec04d054",
   "metadata": {},
   "outputs": [
    {
     "ename": "SyntaxError",
     "evalue": "'return' outside function (Temp/ipykernel_9392/2970864505.py, line 1)",
     "output_type": "error",
     "traceback": [
      "\u001b[1;36m  File \u001b[1;32m\"C:\\Users\\Satyam\\AppData\\Local\\Temp/ipykernel_9392/2970864505.py\"\u001b[1;36m, line \u001b[1;32m1\u001b[0m\n\u001b[1;33m    return 'hello'\u001b[0m\n\u001b[1;37m    ^\u001b[0m\n\u001b[1;31mSyntaxError\u001b[0m\u001b[1;31m:\u001b[0m 'return' outside function\n"
     ]
    }
   ],
   "source": [
    "return 'hello'"
   ]
  },
  {
   "cell_type": "code",
   "execution_count": 21,
   "id": "9fe648f0",
   "metadata": {},
   "outputs": [
    {
     "data": {
      "text/plain": [
       "16"
      ]
     },
     "execution_count": 21,
     "metadata": {},
     "output_type": "execute_result"
    }
   ],
   "source": [
    "# with return no arg\n",
    "def add():\n",
    "    a = 9\n",
    "    b = 7\n",
    "    c = a+b\n",
    "    return c\n",
    "add()"
   ]
  },
  {
   "cell_type": "code",
   "execution_count": null,
   "id": "1139e9cb",
   "metadata": {},
   "outputs": [],
   "source": []
  },
  {
   "cell_type": "code",
   "execution_count": null,
   "id": "46b0e8bf",
   "metadata": {},
   "outputs": [],
   "source": []
  },
  {
   "cell_type": "code",
   "execution_count": null,
   "id": "58e01c03",
   "metadata": {},
   "outputs": [],
   "source": []
  },
  {
   "cell_type": "code",
   "execution_count": null,
   "id": "5c4bc51b",
   "metadata": {},
   "outputs": [],
   "source": [
    "\n"
   ]
  },
  {
   "cell_type": "code",
   "execution_count": 3,
   "id": "9ae8dac1",
   "metadata": {},
   "outputs": [
    {
     "name": "stdout",
     "output_type": "stream",
     "text": [
      "Hello bhai!!\n"
     ]
    }
   ],
   "source": [
    "greet()"
   ]
  },
  {
   "cell_type": "code",
   "execution_count": null,
   "id": "98adce6e",
   "metadata": {},
   "outputs": [],
   "source": []
  }
 ],
 "metadata": {
  "kernelspec": {
   "display_name": "Python 3 (ipykernel)",
   "language": "python",
   "name": "python3"
  },
  "language_info": {
   "codemirror_mode": {
    "name": "ipython",
    "version": 3
   },
   "file_extension": ".py",
   "mimetype": "text/x-python",
   "name": "python",
   "nbconvert_exporter": "python",
   "pygments_lexer": "ipython3",
   "version": "3.9.7"
  }
 },
 "nbformat": 4,
 "nbformat_minor": 5
}
