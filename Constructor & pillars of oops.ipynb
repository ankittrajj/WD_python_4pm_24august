{
 "cells": [
  {
   "cell_type": "code",
   "execution_count": 3,
   "id": "cf244e16",
   "metadata": {},
   "outputs": [
    {
     "data": {
      "text/plain": [
       "37.666666666666664"
      ]
     },
     "execution_count": 3,
     "metadata": {},
     "output_type": "execute_result"
    }
   ],
   "source": [
    "#wap to find the avg of a student using function within oops.\n",
    "class std:\n",
    "    def fun(self,sub1,sub2,sub3):\n",
    "        avg = (sub1+sub2+sub3)/3\n",
    "        return avg\n",
    "    \n",
    "s = std()\n",
    "s.fun(23,34,56)"
   ]
  },
  {
   "cell_type": "code",
   "execution_count": 4,
   "id": "cf835eb6",
   "metadata": {},
   "outputs": [
    {
     "data": {
      "text/plain": [
       "'Bahuballi'"
      ]
     },
     "execution_count": 4,
     "metadata": {},
     "output_type": "execute_result"
    }
   ],
   "source": [
    "class emp:\n",
    "    def __init__(self,name,age):\n",
    "        self.name = name\n",
    "        self.age = age\n",
    "        \n",
    "e = emp('Bahuballi',890)\n",
    "e.name\n",
    "        "
   ]
  },
  {
   "cell_type": "code",
   "execution_count": 5,
   "id": "be9263a1",
   "metadata": {},
   "outputs": [
    {
     "data": {
      "text/plain": [
       "890"
      ]
     },
     "execution_count": 5,
     "metadata": {},
     "output_type": "execute_result"
    }
   ],
   "source": [
    "e.age"
   ]
  },
  {
   "cell_type": "code",
   "execution_count": 6,
   "id": "e9663d56",
   "metadata": {},
   "outputs": [
    {
     "name": "stdout",
     "output_type": "stream",
     "text": [
      "0\n",
      "<__main__.bike object at 0x00000201C309F880>\n"
     ]
    }
   ],
   "source": [
    "#wap to find the price of bike where the price of the bike\n",
    "# is discounted by 5%.Find the original price of the bike.\n",
    "# class bike:\n",
    "#     def __init__(self,price):\n",
    "#         self.price = price\n",
    "#         originalprice = (price)%5\n",
    "#         print(originalprice)\n",
    "# b = bike(200000)\n",
    "# print(b)\n"
   ]
  },
  {
   "cell_type": "code",
   "execution_count": 9,
   "id": "c9d8619c",
   "metadata": {},
   "outputs": [
    {
     "data": {
      "text/plain": [
       "1000.0"
      ]
     },
     "execution_count": 9,
     "metadata": {},
     "output_type": "execute_result"
    }
   ],
   "source": [
    "class bike:\n",
    "    def __init__(self,price):\n",
    "        self.price = price\n",
    "    \n",
    "    def fun(self):\n",
    "        original_price = (self.price*5)/100 \n",
    "        return original_price\n",
    "    \n",
    "    \n",
    "b = bike(20000)\n",
    "b.fun()"
   ]
  },
  {
   "cell_type": "markdown",
   "id": "0579f194",
   "metadata": {},
   "source": [
    "# pillar of oops\n",
    "# inheritance"
   ]
  },
  {
   "cell_type": "code",
   "execution_count": 10,
   "id": "ebd5f007",
   "metadata": {},
   "outputs": [
    {
     "data": {
      "text/plain": [
       "'a'"
      ]
     },
     "execution_count": 10,
     "metadata": {},
     "output_type": "execute_result"
    }
   ],
   "source": [
    "# calling the parent method\n",
    "class pc:\n",
    "    def __init__(self,name,age):\n",
    "        self.name = name\n",
    "        self.age = age\n",
    "        \n",
    "class cc(pc):\n",
    "    def __init__(self,name,age,sal):\n",
    "        pc.__init__(self,name,age)\n",
    "        self.sal = sal\n",
    "        \n",
    "c = cc(\"a\",78,2)\n",
    "c.name"
   ]
  },
  {
   "cell_type": "code",
   "execution_count": 11,
   "id": "b545a71f",
   "metadata": {},
   "outputs": [
    {
     "data": {
      "text/plain": [
       "78"
      ]
     },
     "execution_count": 11,
     "metadata": {},
     "output_type": "execute_result"
    }
   ],
   "source": [
    "c.age"
   ]
  },
  {
   "cell_type": "code",
   "execution_count": 12,
   "id": "c0c88e33",
   "metadata": {},
   "outputs": [
    {
     "data": {
      "text/plain": [
       "2"
      ]
     },
     "execution_count": 12,
     "metadata": {},
     "output_type": "execute_result"
    }
   ],
   "source": [
    "c.sal"
   ]
  },
  {
   "cell_type": "code",
   "execution_count": 13,
   "id": "bdfdffc7",
   "metadata": {},
   "outputs": [
    {
     "data": {
      "text/plain": [
       "'a'"
      ]
     },
     "execution_count": 13,
     "metadata": {},
     "output_type": "execute_result"
    }
   ],
   "source": [
    "\n",
    "#super method \n",
    "class pc:\n",
    "    def __init__(self,name,age):\n",
    "        self.name = name\n",
    "        self.age = age\n",
    "        \n",
    "class cc(pc):\n",
    "    def __init__(self,name,age,sal):\n",
    "        super().__init__(name,age)\n",
    "        self.sal = sal\n",
    "        \n",
    "c = cc(\"a\",78,2)\n",
    "c.name"
   ]
  },
  {
   "cell_type": "code",
   "execution_count": 14,
   "id": "f95cfba7",
   "metadata": {},
   "outputs": [
    {
     "data": {
      "text/plain": [
       "78"
      ]
     },
     "execution_count": 14,
     "metadata": {},
     "output_type": "execute_result"
    }
   ],
   "source": [
    "c.age"
   ]
  },
  {
   "cell_type": "code",
   "execution_count": 15,
   "id": "06ba9be4",
   "metadata": {},
   "outputs": [
    {
     "data": {
      "text/plain": [
       "2"
      ]
     },
     "execution_count": 15,
     "metadata": {},
     "output_type": "execute_result"
    }
   ],
   "source": [
    "c.sal"
   ]
  },
  {
   "cell_type": "code",
   "execution_count": null,
   "id": "68a33cf7",
   "metadata": {},
   "outputs": [],
   "source": [
    "#wap to find the sal of the emp 1 & 2 where emp 1 \n",
    "# takes no holiday and get the bonus of 10% on the salary\n",
    "# while emp 2 takes 10 holidays and get deducted  by 3% of the \n",
    "# salary. Find the actual of emp 1 & emp2. "
   ]
  }
 ],
 "metadata": {
  "kernelspec": {
   "display_name": "Python 3 (ipykernel)",
   "language": "python",
   "name": "python3"
  },
  "language_info": {
   "codemirror_mode": {
    "name": "ipython",
    "version": 3
   },
   "file_extension": ".py",
   "mimetype": "text/x-python",
   "name": "python",
   "nbconvert_exporter": "python",
   "pygments_lexer": "ipython3",
   "version": "3.9.7"
  }
 },
 "nbformat": 4,
 "nbformat_minor": 5
}
