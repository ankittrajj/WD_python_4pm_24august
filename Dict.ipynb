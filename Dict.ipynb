{
 "cells": [
  {
   "cell_type": "code",
   "execution_count": 4,
   "id": "35c68dce",
   "metadata": {},
   "outputs": [
    {
     "name": "stdout",
     "output_type": "stream",
     "text": [
      "k is divisible\n",
      "k is divisible\n",
      "k is divisible\n",
      "k is divisible\n"
     ]
    }
   ],
   "source": [
    "# list of tuple\n",
    "\n",
    "x = [(10,20,30,40)]\n",
    "k = 2\n",
    "for i in x:\n",
    "    for j in i:\n",
    "        \n",
    "        if j % k == 0:\n",
    "            print(\"k is divisible\")\n",
    "        else:\n",
    "            print(\"ND\")"
   ]
  },
  {
   "cell_type": "code",
   "execution_count": 8,
   "id": "7fc6ae65",
   "metadata": {},
   "outputs": [
    {
     "name": "stdout",
     "output_type": "stream",
     "text": [
      "Common Element----> 45\n",
      "Common Element----> 56\n"
     ]
    }
   ],
   "source": [
    "#wap to find common element in the list.\n",
    "\n",
    "a = [45,56,78,90]\n",
    "b = [34,45,56,-9]\n",
    "for i in a:\n",
    "    for j in b:\n",
    "        if i == j :\n",
    "            print(\"Common Element---->\",i)\n",
    "#         else:\n",
    "#             print(\"-1\")"
   ]
  },
  {
   "cell_type": "code",
   "execution_count": 10,
   "id": "20ca810d",
   "metadata": {},
   "outputs": [],
   "source": [
    "# 9.Write a Python program to reverse a tuple.\n",
    "\n",
    "# 10.Write a Python program calculate the product, \n",
    "# multiplying all the numbers of a given tuple. \n",
    "# Original Tuple:\n",
    "# (4, 3, 2, 2, -1, 18)\n",
    "\n",
    "x = (1,2,3,4)\n",
    "y = list(x)"
   ]
  },
  {
   "cell_type": "code",
   "execution_count": 12,
   "id": "c0061243",
   "metadata": {},
   "outputs": [],
   "source": [
    "y.append(56)"
   ]
  },
  {
   "cell_type": "code",
   "execution_count": 13,
   "id": "a4b4bf69",
   "metadata": {},
   "outputs": [
    {
     "data": {
      "text/plain": [
       "[1, 2, 3, 4, 56]"
      ]
     },
     "execution_count": 13,
     "metadata": {},
     "output_type": "execute_result"
    }
   ],
   "source": [
    "y"
   ]
  },
  {
   "cell_type": "code",
   "execution_count": 14,
   "id": "59b6fa24",
   "metadata": {},
   "outputs": [],
   "source": [
    "z = tuple(y)"
   ]
  },
  {
   "cell_type": "code",
   "execution_count": 15,
   "id": "801d14ce",
   "metadata": {},
   "outputs": [
    {
     "data": {
      "text/plain": [
       "(1, 2, 3, 4, 56)"
      ]
     },
     "execution_count": 15,
     "metadata": {},
     "output_type": "execute_result"
    }
   ],
   "source": [
    "z"
   ]
  },
  {
   "cell_type": "code",
   "execution_count": 16,
   "id": "38378e86",
   "metadata": {},
   "outputs": [
    {
     "data": {
      "text/plain": [
       "(1, 2, 3, 4)"
      ]
     },
     "execution_count": 16,
     "metadata": {},
     "output_type": "execute_result"
    }
   ],
   "source": [
    "a = (1,2,3,4)\n",
    "a[:]"
   ]
  },
  {
   "cell_type": "code",
   "execution_count": 17,
   "id": "654483fd",
   "metadata": {},
   "outputs": [
    {
     "data": {
      "text/plain": [
       "(4, 3, 2, 1)"
      ]
     },
     "execution_count": 17,
     "metadata": {},
     "output_type": "execute_result"
    }
   ],
   "source": [
    "a[::-1]"
   ]
  },
  {
   "cell_type": "code",
   "execution_count": null,
   "id": "cbc7dfa0",
   "metadata": {},
   "outputs": [],
   "source": []
  }
 ],
 "metadata": {
  "kernelspec": {
   "display_name": "Python 3 (ipykernel)",
   "language": "python",
   "name": "python3"
  },
  "language_info": {
   "codemirror_mode": {
    "name": "ipython",
    "version": 3
   },
   "file_extension": ".py",
   "mimetype": "text/x-python",
   "name": "python",
   "nbconvert_exporter": "python",
   "pygments_lexer": "ipython3",
   "version": "3.9.7"
  }
 },
 "nbformat": 4,
 "nbformat_minor": 5
}
