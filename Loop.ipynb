{
 "cells": [
  {
   "cell_type": "code",
   "execution_count": 3,
   "id": "287f2a1e",
   "metadata": {},
   "outputs": [
    {
     "name": "stdout",
     "output_type": "stream",
     "text": [
      "0\n",
      "1\n",
      "2\n",
      "3\n",
      "4\n",
      "5\n",
      "6\n",
      "7\n",
      "8\n",
      "9\n"
     ]
    }
   ],
   "source": [
    "# for / while\n",
    "\n",
    "# range function -----> \n",
    "\n",
    "# print 0-10\n",
    "\n",
    "# syntax ----> for variable in range(define the range):\n",
    "#                     print(variable)\n",
    "\n",
    "\n",
    "for i in range(10):\n",
    "    print(i)"
   ]
  },
  {
   "cell_type": "code",
   "execution_count": 5,
   "id": "6969895a",
   "metadata": {},
   "outputs": [
    {
     "name": "stdout",
     "output_type": "stream",
     "text": [
      "2\n",
      "3\n",
      "4\n",
      "5\n",
      "6\n",
      "7\n"
     ]
    }
   ],
   "source": [
    "# print 2-8\n",
    "for i in range(2,8):\n",
    "    print(i)"
   ]
  },
  {
   "cell_type": "code",
   "execution_count": 6,
   "id": "b565722a",
   "metadata": {},
   "outputs": [
    {
     "name": "stdout",
     "output_type": "stream",
     "text": [
      "-10\n",
      "-9\n",
      "-8\n",
      "-7\n",
      "-6\n",
      "-5\n",
      "-4\n",
      "-3\n",
      "-2\n",
      "-1\n",
      "0\n",
      "1\n",
      "2\n",
      "3\n",
      "4\n",
      "5\n",
      "6\n",
      "7\n",
      "8\n",
      "9\n",
      "10\n"
     ]
    }
   ],
   "source": [
    "#wap to print number from -10 to 10.\n",
    "for i in range(-10,11):\n",
    "    print(i)"
   ]
  },
  {
   "cell_type": "code",
   "execution_count": 7,
   "id": "187316ed",
   "metadata": {},
   "outputs": [
    {
     "name": "stdout",
     "output_type": "stream",
     "text": [
      "2\n",
      "3\n",
      "4\n",
      "5\n",
      "6\n",
      "7\n",
      "8\n",
      "9\n",
      "10\n",
      "11\n",
      "12\n",
      "13\n",
      "14\n",
      "15\n",
      "16\n",
      "17\n",
      "18\n",
      "19\n"
     ]
    }
   ],
   "source": [
    "for i in range(2,20):\n",
    "    print(i)"
   ]
  },
  {
   "cell_type": "code",
   "execution_count": 13,
   "id": "8df2261a",
   "metadata": {},
   "outputs": [],
   "source": [
    "for i in range(2,21,-1):\n",
    "    print(i)"
   ]
  },
  {
   "cell_type": "code",
   "execution_count": 15,
   "id": "88ea6d74",
   "metadata": {},
   "outputs": [
    {
     "name": "stdout",
     "output_type": "stream",
     "text": [
      "10\n",
      "9\n",
      "8\n",
      "7\n",
      "6\n",
      "5\n",
      "4\n",
      "3\n",
      "2\n",
      "1\n",
      "0\n",
      "-1\n",
      "-2\n",
      "-3\n",
      "-4\n",
      "-5\n",
      "-6\n",
      "-7\n",
      "-8\n",
      "-9\n",
      "-10\n"
     ]
    }
   ],
   "source": [
    "#wap to print a number from 10 to -10.\n",
    "\n",
    "for i in range(10,-11,-1):\n",
    "    print(i)"
   ]
  },
  {
   "cell_type": "code",
   "execution_count": 24,
   "id": "b66d6b45",
   "metadata": {},
   "outputs": [
    {
     "name": "stdout",
     "output_type": "stream",
     "text": [
      "Even number-----> 12\n",
      "Odd number----> 13\n",
      "Even number-----> 14\n",
      "Odd number----> 15\n",
      "Even number-----> 16\n",
      "Odd number----> 17\n",
      "Even number-----> 18\n",
      "Odd number----> 19\n",
      "Even number-----> 20\n",
      "Odd number----> 21\n",
      "Even number-----> 22\n",
      "Odd number----> 23\n",
      "Even number-----> 24\n",
      "Odd number----> 25\n",
      "Even number-----> 26\n",
      "Odd number----> 27\n",
      "Even number-----> 28\n",
      "Odd number----> 29\n",
      "Even number-----> 30\n",
      "Odd number----> 31\n",
      "Even number-----> 32\n",
      "Odd number----> 33\n",
      "Even number-----> 34\n",
      "Odd number----> 35\n",
      "Even number-----> 36\n",
      "Odd number----> 37\n",
      "Even number-----> 38\n",
      "Odd number----> 39\n",
      "Even number-----> 40\n",
      "Odd number----> 41\n",
      "Even number-----> 42\n",
      "Odd number----> 43\n",
      "Even number-----> 44\n",
      "Toatl even number is :-> 17\n",
      "Toatl odd number is :-> 16\n"
     ]
    }
   ],
   "source": [
    "#wap to find odd & even number from 1-100.\n",
    "# Wap to count these number also.\n",
    "\n",
    "count_even = 0\n",
    "count_odd = 0\n",
    "for i in range(12,45):\n",
    "    if i % 2 == 0 :\n",
    "        print(\"Even number----->\",i)\n",
    "        count_even = count_even+1\n",
    "        \n",
    "    else:\n",
    "        print(\"Odd number---->\",i)\n",
    "        count_odd = count_odd+1\n",
    "print(\"Toatl even number is :->\",count_even)\n",
    "print(\"Toatl odd number is :->\",count_odd)"
   ]
  },
  {
   "cell_type": "code",
   "execution_count": 33,
   "id": "40bc5182",
   "metadata": {},
   "outputs": [
    {
     "name": "stdout",
     "output_type": "stream",
     "text": [
      "nitin\n",
      "Palindrome\n"
     ]
    }
   ],
   "source": [
    "#wap to print the table of 2.\n",
    "#wap to reverse a string.\n",
    "# Check a string is palindrome or not.\n",
    "\n",
    "x = 'nitin'\n",
    "y = ''\n",
    "for i in x:\n",
    "#     print(i)\n",
    "    y = i+y\n",
    "print(y)\n",
    "\n",
    "if x == y :\n",
    "    print(\"Palindrome\")\n",
    "else:\n",
    "    print(\"Reverse/NP\")\n"
   ]
  },
  {
   "cell_type": "code",
   "execution_count": null,
   "id": "a93083c4",
   "metadata": {},
   "outputs": [],
   "source": [
    "#wap to find the number of digit in 784539."
   ]
  }
 ],
 "metadata": {
  "kernelspec": {
   "display_name": "Python 3 (ipykernel)",
   "language": "python",
   "name": "python3"
  },
  "language_info": {
   "codemirror_mode": {
    "name": "ipython",
    "version": 3
   },
   "file_extension": ".py",
   "mimetype": "text/x-python",
   "name": "python",
   "nbconvert_exporter": "python",
   "pygments_lexer": "ipython3",
   "version": "3.9.7"
  }
 },
 "nbformat": 4,
 "nbformat_minor": 5
}
