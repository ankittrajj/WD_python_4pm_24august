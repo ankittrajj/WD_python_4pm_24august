{
 "cells": [
  {
   "cell_type": "code",
   "execution_count": 3,
   "id": "7e037c5d",
   "metadata": {},
   "outputs": [
    {
     "name": "stdout",
     "output_type": "stream",
     "text": [
      "[4, 2, 3, 1]\n"
     ]
    }
   ],
   "source": [
    "# Python program to swap two elements in a list.\n",
    "a = [1,2,3,4]\n",
    "a[0],a[-1] = a[-1],a[0]\n",
    "print(a)"
   ]
  },
  {
   "cell_type": "code",
   "execution_count": 4,
   "id": "9deb9b48",
   "metadata": {},
   "outputs": [],
   "source": [
    "# Reversing a List.\n",
    "a = [1,2,3,4]\n",
    "a.reverse()"
   ]
  },
  {
   "cell_type": "code",
   "execution_count": 5,
   "id": "746865da",
   "metadata": {},
   "outputs": [
    {
     "data": {
      "text/plain": [
       "[4, 3, 2, 1]"
      ]
     },
     "execution_count": 5,
     "metadata": {},
     "output_type": "execute_result"
    }
   ],
   "source": [
    "a"
   ]
  },
  {
   "cell_type": "code",
   "execution_count": 19,
   "id": "27d6ea7e",
   "metadata": {},
   "outputs": [
    {
     "name": "stdout",
     "output_type": "stream",
     "text": [
      "[46, 52, 29, 36]\n"
     ]
    }
   ],
   "source": [
    "a = [36,29,52,46]\n",
    "b = []\n",
    "for i in range(len(a)-1,-1,-1):\n",
    "    b.append(a[i])\n",
    "print(b)\n",
    "    "
   ]
  },
  {
   "cell_type": "code",
   "execution_count": 16,
   "id": "075da1f7",
   "metadata": {},
   "outputs": [
    {
     "name": "stdout",
     "output_type": "stream",
     "text": [
      "5\n",
      "4\n",
      "3\n",
      "2\n",
      "1\n",
      "0\n"
     ]
    }
   ],
   "source": [
    "for i in range(5,-1,-1):\n",
    "    print(i)"
   ]
  },
  {
   "cell_type": "code",
   "execution_count": 25,
   "id": "fcaed85b",
   "metadata": {},
   "outputs": [
    {
     "name": "stdout",
     "output_type": "stream",
     "text": [
      "24\n"
     ]
    }
   ],
   "source": [
    "a = [1,2,3,4]\n",
    "x = 1\n",
    "for i in a:\n",
    "#     print(i)\n",
    "    x = x*i\n",
    "print(x)"
   ]
  },
  {
   "cell_type": "code",
   "execution_count": null,
   "id": "658b0e2f",
   "metadata": {},
   "outputs": [],
   "source": [
    "x = [34,9,23,76,12]"
   ]
  },
  {
   "cell_type": "code",
   "execution_count": 26,
   "id": "f528b4d8",
   "metadata": {},
   "outputs": [
    {
     "name": "stdout",
     "output_type": "stream",
     "text": [
      "89 is maximum number\n",
      "75 is second largest number\n"
     ]
    }
   ],
   "source": [
    "lst = [25,56,89,12,75,32]\n",
    "maxnum = lst[0]\n",
    "seclargenum = lst[0]\n",
    "for i in lst:\n",
    "    if i>maxnum:\n",
    "        maxnum = i\n",
    "    elif i>seclargenum:\n",
    "        seclargenum = i\n",
    "print(maxnum , 'is maximum number')\n",
    "print(seclargenum,'is second largest number') \n"
   ]
  },
  {
   "cell_type": "code",
   "execution_count": null,
   "id": "4fe6f985",
   "metadata": {},
   "outputs": [],
   "source": []
  }
 ],
 "metadata": {
  "kernelspec": {
   "display_name": "Python 3 (ipykernel)",
   "language": "python",
   "name": "python3"
  },
  "language_info": {
   "codemirror_mode": {
    "name": "ipython",
    "version": 3
   },
   "file_extension": ".py",
   "mimetype": "text/x-python",
   "name": "python",
   "nbconvert_exporter": "python",
   "pygments_lexer": "ipython3",
   "version": "3.9.7"
  }
 },
 "nbformat": 4,
 "nbformat_minor": 5
}
